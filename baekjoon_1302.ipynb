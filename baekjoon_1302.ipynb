{
 "cells": [
  {
   "attachments": {},
   "cell_type": "markdown",
   "metadata": {},
   "source": [
    "#### 백준 1302 번베스트셀러 "
   ]
  },
  {
   "cell_type": "code",
   "execution_count": 86,
   "metadata": {},
   "outputs": [
    {
     "name": "stdout",
     "output_type": "stream",
     "text": [
      "a\n",
      "top\n"
     ]
    }
   ],
   "source": [
    "book=list() # book list를 만들어준다.\n",
    "n = int(input())\n",
    "for i in range(n):\n",
    "  book.append(input()) \n",
    "\n",
    "\n",
    "book_list=set(book) # 중복되는 것을 제외한 순수 book 종류를 만들고, 리스트로 바꿔준다.\n",
    "book_list=list(book_list)\n",
    "\n",
    "book_dict={} # 카운트를 세기 위해 dict 활용\n",
    "for i in range(len(book_list)):\n",
    "  book_dict[book_list[i]] = 0\n",
    "\n",
    "\n",
    "for i in book_dict.keys(): # 수량을 체크해서 value 에 저장\n",
    "  count=0\n",
    "  for j in book:\n",
    "    if i == j:\n",
    "      count +=1\n",
    "  book_dict[i] = count\n",
    "\n",
    "# 최대판매수량이 같은 경우를 고려하고, 알파벳순으로 정렬\n",
    "ans=[k for k,v in book_dict.items() if max(book_dict.values()) == v]\n",
    "ans.sort()\n",
    "\n",
    "# 정답출력\n",
    "print(ans[0])\n",
    "\n",
    "\n",
    "    "
   ]
  },
  {
   "cell_type": "code",
   "execution_count": null,
   "metadata": {},
   "outputs": [],
   "source": []
  }
 ],
 "metadata": {
  "kernelspec": {
   "display_name": "Python 3.10.4 64-bit",
   "language": "python",
   "name": "python3"
  },
  "language_info": {
   "codemirror_mode": {
    "name": "ipython",
    "version": 3
   },
   "file_extension": ".py",
   "mimetype": "text/x-python",
   "name": "python",
   "nbconvert_exporter": "python",
   "pygments_lexer": "ipython3",
   "version": "3.10.4 (tags/v3.10.4:9d38120, Mar 23 2022, 23:13:41) [MSC v.1929 64 bit (AMD64)]"
  },
  "orig_nbformat": 4,
  "vscode": {
   "interpreter": {
    "hash": "369f2c481f4da34e4445cda3fffd2e751bd1c4d706f27375911949ba6bb62e1c"
   }
  }
 },
 "nbformat": 4,
 "nbformat_minor": 2
}
