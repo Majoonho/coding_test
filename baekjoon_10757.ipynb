{
 "cells": [
  {
   "attachments": {},
   "cell_type": "markdown",
   "metadata": {},
   "source": [
    "#### <a href=\"https://www.acmicpc.net/problem/10757\">백준 10757 번 큰 수 A+B</a>\n",
    " "
   ]
  },
  {
   "cell_type": "code",
   "execution_count": 1,
   "metadata": {},
   "outputs": [],
   "source": [
    "a = 9223372036854775807\n",
    "b = 9223372036854775808"
   ]
  },
  {
   "cell_type": "code",
   "execution_count": 3,
   "metadata": {},
   "outputs": [],
   "source": [
    "A,B=map(int, input().split())\n",
    "\n",
    "print(A+B)"
   ]
  },
  {
   "cell_type": "code",
   "execution_count": 6,
   "metadata": {},
   "outputs": [
    {
     "data": {
      "text/plain": [
       "9223372036854775808"
      ]
     },
     "execution_count": 6,
     "metadata": {},
     "output_type": "execute_result"
    }
   ],
   "source": [
    "3 5 9 12 30"
   ]
  },
  {
   "cell_type": "code",
   "execution_count": null,
   "metadata": {},
   "outputs": [],
   "source": []
  },
  {
   "attachments": {},
   "cell_type": "markdown",
   "metadata": {},
   "source": [
    "#### <a href=\"https://www.acmicpc.net/problem/1978\">백준 1978 번 소수찾기</a>"
   ]
  },
  {
   "cell_type": "code",
   "execution_count": 17,
   "metadata": {},
   "outputs": [
    {
     "name": "stdout",
     "output_type": "stream",
     "text": [
      "2\n"
     ]
    }
   ],
   "source": [
    "N=int(input())\n",
    "prime_quest=list(map(int,input().split()))\n",
    "ans=list()\n",
    "for i in prime_quest :\n",
    "    j = i\n",
    "    n=0\n",
    "    while i!=0 :\n",
    "        if j%i ==0 :\n",
    "            n+=1\n",
    "        i-=1\n",
    "    if n ==2:\n",
    "        ans.append(j)\n",
    "print(len(ans))\n"
   ]
  },
  {
   "cell_type": "code",
   "execution_count": 13,
   "metadata": {},
   "outputs": [
    {
     "data": {
      "text/plain": [
       "[3, 5, 9, 12, 30]"
      ]
     },
     "execution_count": 13,
     "metadata": {},
     "output_type": "execute_result"
    }
   ],
   "source": [
    "ans"
   ]
  },
  {
   "cell_type": "code",
   "execution_count": 3,
   "metadata": {},
   "outputs": [
    {
     "name": "stdout",
     "output_type": "stream",
     "text": [
      "311\n",
      "11\n"
     ]
    }
   ],
   "source": [
    "\n",
    "M = int(input())\n",
    "N = int(input())\n",
    "prime_quest = [x for x in range(M,N+1)]\n",
    "ans=list()\n",
    "for i in prime_quest :\n",
    "    j = i\n",
    "    n=0\n",
    "    while i!=0 :\n",
    "        if j%i ==0 :\n",
    "            n+=1\n",
    "            if n >2:\n",
    "                break\n",
    "        i-=1\n",
    "    if n ==2:\n",
    "        ans.append(j)\n",
    "\n",
    "if len(ans)==0:\n",
    "    print(-1)\n",
    "else :\n",
    "    print(sum(ans))\n",
    "    print(min(ans))\n",
    "\n"
   ]
  },
  {
   "cell_type": "code",
   "execution_count": 25,
   "metadata": {},
   "outputs": [
    {
     "data": {
      "text/plain": [
       "41"
      ]
     },
     "execution_count": 25,
     "metadata": {},
     "output_type": "execute_result"
    }
   ],
   "source": [
    "len(prime_quest)"
   ]
  },
  {
   "cell_type": "code",
   "execution_count": 1,
   "metadata": {},
   "outputs": [
    {
     "ename": "ValueError",
     "evalue": "invalid literal for int() with base 10: '2 5'",
     "output_type": "error",
     "traceback": [
      "\u001b[1;31m---------------------------------------------------------------------------\u001b[0m",
      "\u001b[1;31mValueError\u001b[0m                                Traceback (most recent call last)",
      "\u001b[1;32mc:\\Users\\Home\\Desktop\\portfolio\\coding_test\\baekjoon_10757.ipynb 셀 11\u001b[0m in \u001b[0;36m<cell line: 1>\u001b[1;34m()\u001b[0m\n\u001b[1;32m----> <a href='vscode-notebook-cell:/c%3A/Users/Home/Desktop/portfolio/coding_test/baekjoon_10757.ipynb#X16sZmlsZQ%3D%3D?line=0'>1</a>\u001b[0m M \u001b[39m=\u001b[39m \u001b[39mint\u001b[39;49m(\u001b[39minput\u001b[39;49m())\n\u001b[0;32m      <a href='vscode-notebook-cell:/c%3A/Users/Home/Desktop/portfolio/coding_test/baekjoon_10757.ipynb#X16sZmlsZQ%3D%3D?line=1'>2</a>\u001b[0m N \u001b[39m=\u001b[39m \u001b[39mint\u001b[39m(\u001b[39minput\u001b[39m())\n\u001b[0;32m      <a href='vscode-notebook-cell:/c%3A/Users/Home/Desktop/portfolio/coding_test/baekjoon_10757.ipynb#X16sZmlsZQ%3D%3D?line=3'>4</a>\u001b[0m \u001b[39m# process\u001b[39;00m\n",
      "\u001b[1;31mValueError\u001b[0m: invalid literal for int() with base 10: '2 5'"
     ]
    }
   ],
   "source": [
    "M = int(input())\n",
    "N = int(input())\n",
    "\n",
    "# process\n",
    "decimal = []\n",
    "for i in range(M, N+1):\n",
    "\tfor j in range(2, i+1):\n",
    "\t\tif j == i:\n",
    "\t\t\tdecimal.append(i)\n",
    "\t\tif i % j == 0:\n",
    "\t\t\tbreak\n",
    "\n",
    "# output\n",
    "if not decimal:\n",
    "\tprint(-1)\n",
    "else:\n",
    "\tprint(sum(decimal))\n",
    "\tprint(decimal[0])"
   ]
  }
 ],
 "metadata": {
  "kernelspec": {
   "display_name": "Python 3.10.4 64-bit",
   "language": "python",
   "name": "python3"
  },
  "language_info": {
   "codemirror_mode": {
    "name": "ipython",
    "version": 3
   },
   "file_extension": ".py",
   "mimetype": "text/x-python",
   "name": "python",
   "nbconvert_exporter": "python",
   "pygments_lexer": "ipython3",
   "version": "3.10.4"
  },
  "orig_nbformat": 4,
  "vscode": {
   "interpreter": {
    "hash": "369f2c481f4da34e4445cda3fffd2e751bd1c4d706f27375911949ba6bb62e1c"
   }
  }
 },
 "nbformat": 4,
 "nbformat_minor": 2
}
