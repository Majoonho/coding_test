{
 "cells": [
  {
   "cell_type": "markdown",
   "metadata": {},
   "source": [
    "#### 백준 13335 번 트럭"
   ]
  },
  {
   "cell_type": "code",
   "execution_count": 61,
   "metadata": {},
   "outputs": [],
   "source": [
    "w=2 #다리길이\n",
    "l=10 #무게\n",
    "n=[7,4,5,6]"
   ]
  },
  {
   "cell_type": "code",
   "execution_count": 63,
   "metadata": {},
   "outputs": [],
   "source": [
    "w=100 #다리길이\n",
    "l=100 #무게\n",
    "n=[10]"
   ]
  },
  {
   "cell_type": "code",
   "execution_count": 76,
   "metadata": {},
   "outputs": [],
   "source": [
    "w=100 #다리길이\n",
    "l=100 #무게\n",
    "n=[10]*10"
   ]
  },
  {
   "cell_type": "code",
   "execution_count": 77,
   "metadata": {},
   "outputs": [
    {
     "name": "stdout",
     "output_type": "stream",
     "text": [
      "n의갯수: [10, 10, 10, 10, 10, 10, 10, 10, 10, 10]\n",
      "다리위 트럭갯수: [10, 10, 10, 10, 10, 10, 10, 10, 10, 10]\n",
      "10\n"
     ]
    }
   ],
   "source": [
    "on_the_bridge = list()\n",
    "result=0\n",
    "while n :\n",
    "    print(\"n의갯수:\",n)\n",
    "    \n",
    "    for i in n[:w] :\n",
    "        on_the_bridge.append(i)\n",
    "        if sum(on_the_bridge) > l :\n",
    "            on_the_bridge.pop() \n",
    "    print('다리위 트럭갯수:',on_the_bridge)\n",
    "    print(len(on_the_bridge))\n",
    "    result = result+w+len(on_the_bridge)\n",
    "    for x in range(len(on_the_bridge)):\n",
    "        on_the_bridge.pop(0)\n",
    "        n.pop(0)\n",
    "        \n",
    "result=w"
   ]
  },
  {
   "cell_type": "code",
   "execution_count": 78,
   "metadata": {},
   "outputs": [
    {
     "data": {
      "text/plain": [
       "100"
      ]
     },
     "execution_count": 78,
     "metadata": {},
     "output_type": "execute_result"
    }
   ],
   "source": [
    "result"
   ]
  },
  {
   "cell_type": "code",
   "execution_count": 81,
   "metadata": {},
   "outputs": [
    {
     "data": {
      "text/plain": [
       "[]"
      ]
     },
     "execution_count": 81,
     "metadata": {},
     "output_type": "execute_result"
    }
   ],
   "source": [
    "on_the_bridge"
   ]
  },
  {
   "cell_type": "code",
   "execution_count": null,
   "metadata": {},
   "outputs": [],
   "source": [
    "result=1\n",
    "for x in range(len(n)):\n",
    "    print(n)\n",
    "    if len(n) ==1 :\n",
    "        result+=(w+1)\n",
    "        n.pop(0)\n",
    "        break\n",
    "    if sum(n[:w]) > l :\n",
    "        for i in range(w):\n",
    "            result+=1\n",
    "        n.pop(0)\n",
    "\n",
    "    else :\n",
    "        for i in range(w):\n",
    "            result+=1\n",
    "        n.pop(0)\n",
    "        n.pop(0)"
   ]
  },
  {
   "cell_type": "code",
   "execution_count": null,
   "metadata": {},
   "outputs": [],
   "source": []
  }
 ],
 "metadata": {
  "kernelspec": {
   "display_name": "Python 3.10.4 64-bit",
   "language": "python",
   "name": "python3"
  },
  "language_info": {
   "codemirror_mode": {
    "name": "ipython",
    "version": 3
   },
   "file_extension": ".py",
   "mimetype": "text/x-python",
   "name": "python",
   "nbconvert_exporter": "python",
   "pygments_lexer": "ipython3",
   "version": "3.10.4"
  },
  "orig_nbformat": 4,
  "vscode": {
   "interpreter": {
    "hash": "369f2c481f4da34e4445cda3fffd2e751bd1c4d706f27375911949ba6bb62e1c"
   }
  }
 },
 "nbformat": 4,
 "nbformat_minor": 2
}
