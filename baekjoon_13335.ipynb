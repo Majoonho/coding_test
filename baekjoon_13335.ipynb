{
 "cells": [
  {
   "cell_type": "markdown",
   "metadata": {},
   "source": [
    "#### 백준 13335 번 트럭"
   ]
  },
  {
   "cell_type": "code",
   "execution_count": 132,
   "metadata": {},
   "outputs": [],
   "source": [
    "w=2 #다리길이\n",
    "l=10 #무게\n",
    "n=[7,4,5,6]"
   ]
  },
  {
   "cell_type": "code",
   "execution_count": 134,
   "metadata": {},
   "outputs": [],
   "source": [
    "w=100 #다리길이\n",
    "l=100 #무게\n",
    "n=[10]"
   ]
  },
  {
   "cell_type": "code",
   "execution_count": 136,
   "metadata": {},
   "outputs": [],
   "source": [
    "w=100 #다리길이\n",
    "l=100 #무게\n",
    "n=[10]*10"
   ]
  },
  {
   "cell_type": "code",
   "execution_count": 143,
   "metadata": {},
   "outputs": [
    {
     "name": "stdout",
     "output_type": "stream",
     "text": [
      "101\n"
     ]
    }
   ],
   "source": [
    "_, w, l=map(int, input().split())\n",
    "n=list(map(int, input().split()))\n",
    "\n",
    "on_the_bridge = list()\n",
    "result=0\n",
    "count=0\n",
    "while n :\n",
    "    # print(\"n의갯수:\",n)\n",
    "    \n",
    "    for i in n[:w] :\n",
    "        on_the_bridge.append(i)\n",
    "        if sum(on_the_bridge) > l :\n",
    "            on_the_bridge.pop() \n",
    "    # print('다리위 트럭갯수:',on_the_bridge)\n",
    "    \n",
    "   \n",
    "    result = result+w+len(on_the_bridge)\n",
    "    # print(\"result2:\",result)\n",
    "\n",
    "    for x in range(len(on_the_bridge)):\n",
    "        on_the_bridge.pop(0)\n",
    "        n.pop(0)\n",
    "    count+=1\n",
    "print(result-count+1)"
   ]
  },
  {
   "cell_type": "code",
   "execution_count": null,
   "metadata": {},
   "outputs": [],
   "source": [
    "# 다른 사람의 코드\n",
    "import sys\n",
    "input=sys.stdin.readline\n",
    "\n",
    "n, w, l = map(int, input().split())\n",
    "trucks = list(map(int, input().split()))\n",
    " \n",
    "bridge = [0] * w\n",
    "time = 0\n",
    " \n",
    "while bridge:\n",
    "    time += 1\n",
    "    bridge.pop(0)\n",
    "    if bridge:\n",
    "        if sum(bridge) + trucks[0] <= l:\n",
    "            bridge.append(trucks.pop(0))\n",
    "        else:\n",
    "            bridge.append(0)\n",
    "print(time)"
   ]
  },
  {
   "cell_type": "code",
   "execution_count": null,
   "metadata": {},
   "outputs": [],
   "source": [
    "import sys\n",
    "\n",
    "n, w, l = map(int, sys.stdin.readline().split())\n",
    "a = list(map(int, sys.stdin.readline().split()))\n",
    "temp = [0] * w # 다리의 칸\n",
    "cnt = 0\n",
    "\n",
    "# 반복문을 통해 다리의 모든 트럭이 지나갈 때까지 반복\n",
    "while temp:\n",
    "    cnt += 1 # 카운트\n",
    "    temp.pop(0) # 다리의 칸을 하나씩 줄인다.\n",
    "\n",
    "    # 모든 트럭을 확인\n",
    "    if a:\n",
    "        # 현재 다리에 있는 트럭과 다리를 건너려는 트럭의 무게가\n",
    "        # 다리의 하중보다 크다면 빈 공간을 추가\n",
    "        if sum(temp) + a[0] > l:\n",
    "            temp.append(0)\n",
    "\n",
    "        # 다리의 하중보다 작다면 트럭을 다리에 추가\n",
    "        else:\n",
    "            temp.append(a.pop(0))\n",
    "\n",
    "print(cnt)"
   ]
  }
 ],
 "metadata": {
  "kernelspec": {
   "display_name": "Python 3.10.4 64-bit",
   "language": "python",
   "name": "python3"
  },
  "language_info": {
   "codemirror_mode": {
    "name": "ipython",
    "version": 3
   },
   "file_extension": ".py",
   "mimetype": "text/x-python",
   "name": "python",
   "nbconvert_exporter": "python",
   "pygments_lexer": "ipython3",
   "version": "3.10.4"
  },
  "orig_nbformat": 4,
  "vscode": {
   "interpreter": {
    "hash": "369f2c481f4da34e4445cda3fffd2e751bd1c4d706f27375911949ba6bb62e1c"
   }
  }
 },
 "nbformat": 4,
 "nbformat_minor": 2
}
