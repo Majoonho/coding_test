{
 "cells": [
  {
   "attachments": {},
   "cell_type": "markdown",
   "metadata": {},
   "source": [
    "#### 백준 4948 번 베르트랑 공준"
   ]
  },
  {
   "cell_type": "code",
   "execution_count": 113,
   "metadata": {},
   "outputs": [
    {
     "name": "stdout",
     "output_type": "stream",
     "text": [
      "1\n",
      "CPU times: total: 31.2 ms\n",
      "Wall time: 448 ms\n"
     ]
    }
   ],
   "source": [
    "# 하나씩 비교하므로 시간초과\n",
    "\n",
    "%%time\n",
    "n=int(input())\n",
    "ans=list()\n",
    "\n",
    "for i in range(n+1,(2*n)+1):\n",
    "    k=0\n",
    "    \n",
    "    for j in range(2,i+1):\n",
    "        if i%j==0:\n",
    "            k+=1\n",
    "            if k>=2 :\n",
    "                break\n",
    "    if k==1:\n",
    "        ans.append(i)\n",
    "if len(ans) >=1:\n",
    "    print(len(ans))\n",
    "                \n",
    "    \n",
    "        \n",
    "        \n",
    "        \n"
   ]
  },
  {
   "cell_type": "code",
   "execution_count": 218,
   "metadata": {},
   "outputs": [
    {
     "name": "stdout",
     "output_type": "stream",
     "text": [
      "2\n",
      "2\n",
      "2\n",
      "2\n",
      "4\n",
      "21\n",
      "135\n",
      "135\n",
      "1033\n",
      "8392\n",
      "CPU times: total: 1.06 s\n",
      "Wall time: 39.7 s\n"
     ]
    }
   ],
   "source": [
    "# %%time\n",
    "import math\n",
    "def isPrime(n):\n",
    "    if n==1: return False\n",
    "    for i in range(2,int((math.sqrt(n)))+1):\n",
    "        if n % i == 0:\n",
    "            \n",
    "            return False\n",
    "        \n",
    "    \n",
    "    return True\n",
    "\n",
    "\n",
    "\n",
    "all_list=list(range(2,(2*123456)))\n",
    "prime_list=list()\n",
    "for i in all_list:\n",
    "    if isPrime(i) == True:\n",
    "        prime_list.append(i)\n",
    "\n",
    "while True:   \n",
    "    k=0\n",
    "    n=int(input())     \n",
    "    if n==0:\n",
    "        break\n",
    "    \n",
    "    for i in prime_list:\n",
    "        if n< i <=((n*2)) :\n",
    "            k+=1\n",
    "\n",
    "    print(k)\n",
    "            "
   ]
  },
  {
   "cell_type": "code",
   "execution_count": null,
   "metadata": {},
   "outputs": [],
   "source": []
  }
 ],
 "metadata": {
  "kernelspec": {
   "display_name": "Python 3.10.4 64-bit",
   "language": "python",
   "name": "python3"
  },
  "language_info": {
   "codemirror_mode": {
    "name": "ipython",
    "version": 3
   },
   "file_extension": ".py",
   "mimetype": "text/x-python",
   "name": "python",
   "nbconvert_exporter": "python",
   "pygments_lexer": "ipython3",
   "version": "3.10.4"
  },
  "orig_nbformat": 4,
  "vscode": {
   "interpreter": {
    "hash": "369f2c481f4da34e4445cda3fffd2e751bd1c4d706f27375911949ba6bb62e1c"
   }
  }
 },
 "nbformat": 4,
 "nbformat_minor": 2
}
