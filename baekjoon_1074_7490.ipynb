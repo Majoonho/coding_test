{
 "cells": [
  {
   "cell_type": "markdown",
   "metadata": {},
   "source": [
    "#### 백준 1074 번 피보나치수 Z"
   ]
  },
  {
   "cell_type": "code",
   "execution_count": 1,
   "metadata": {},
   "outputs": [],
   "source": [
    "result = 0\n",
    "\n",
    "def z(n, x,y):\n",
    "    global result\n",
    "    if n == 2 :\n",
    "        if x == X and y == Y :\n",
    "            print(result)\n",
    "            return \n",
    "        result += 1\n",
    "        \n",
    "        if x == X and y + 1 == Y :\n",
    "            print(result)\n",
    "            return \n",
    "        result +=1\n",
    "        \n",
    "        if x + 1 == X and y == Y :\n",
    "            print(result)\n",
    "            return \n",
    "        result +=1\n",
    "        \n",
    "        if x +1 == X and y + 1  == Y :\n",
    "            print(result)\n",
    "            return \n",
    "        result +=1\n",
    "        return\n",
    "    z(n/2 , x,y)\n",
    "    z(n/2 , x,y+n/2)\n",
    "    z(n/2 , x+n/2,y)\n",
    "    z(n/2 , x+n/2,y+n/2)\n",
    "    "
   ]
  },
  {
   "cell_type": "code",
   "execution_count": 22,
   "metadata": {},
   "outputs": [
    {
     "name": "stdout",
     "output_type": "stream",
     "text": [
      "120\n"
     ]
    }
   ],
   "source": [
    "N=2 \n",
    "X=3\n",
    "Y=1\n",
    "z(2**N, X,Y)\n"
   ]
  },
  {
   "attachments": {},
   "cell_type": "markdown",
   "metadata": {},
   "source": [
    "#### 백준 7490 번 0만들기"
   ]
  },
  {
   "cell_type": "code",
   "execution_count": 16,
   "metadata": {},
   "outputs": [],
   "source": [
    "import random"
   ]
  },
  {
   "cell_type": "code",
   "execution_count": 14,
   "metadata": {},
   "outputs": [],
   "source": [
    "sample=[1,2,3,4,5,6,7]"
   ]
  },
  {
   "cell_type": "code",
   "execution_count": 20,
   "metadata": {},
   "outputs": [],
   "source": [
    "def calculator(sample):\n",
    "    temp = list()\n",
    "    for i in sample :\n",
    "        cal=random.choice((\"+\",\"-\",\" \"))\n",
    "        if i != sample[-1]:\n",
    "            temp.append(str(i))\n",
    "            temp.append(cal)\n",
    "        else :\n",
    "            temp.append(str(i))\n",
    "            \n",
    "    temp2=list()\n",
    "    for idx, num in enumerate(temp) :\n",
    "        \n",
    "        temp2.append(num)\n",
    "        if num == \" \":\n",
    "            \n",
    "            if temp2 != None:\n",
    "                temp2.pop()\n",
    "                temp2.pop()\n",
    "                temp2.append((temp[idx-1]+temp[idx+1]))\n",
    "                temp.pop(0)\n",
    "        if num == \"+\":\n",
    "            temp2.pop()\n",
    "            temp2.append((temp[idx]+temp[idx+1]))\n",
    "            temp.pop(0)\n",
    "        if num == \"-\":\n",
    "            temp2.pop()\n",
    "            temp2.append((temp[idx]+temp[idx+1]))\n",
    "            temp.pop(0)\n",
    "            \n",
    "    ans = 0\n",
    "    for i in temp2 :\n",
    "        ans += int(i)\n",
    "        \n",
    "        \n",
    "    result= ans     \n",
    "    \n",
    "    print(result)"
   ]
  },
  {
   "cell_type": "code",
   "execution_count": 21,
   "metadata": {},
   "outputs": [
    {
     "name": "stdout",
     "output_type": "stream",
     "text": [
      "100\n"
     ]
    }
   ],
   "source": [
    "calculator(sample)\n",
    "        \n",
    "    "
   ]
  },
  {
   "cell_type": "code",
   "execution_count": null,
   "metadata": {},
   "outputs": [],
   "source": []
  },
  {
   "cell_type": "code",
   "execution_count": 24,
   "metadata": {},
   "outputs": [
    {
     "name": "stdout",
     "output_type": "stream",
     "text": [
      "1+2-3\n",
      "1+2-3+4-5-6+7\n",
      "1+2-3-4+5+6-7\n",
      "1-2 3+4+5+6+7\n",
      "1-2 3-4 5+6 7\n",
      "1-2+3+4-5+6-7\n",
      "1-2-3-4-5+6+7\n"
     ]
    }
   ],
   "source": [
    "import copy\n",
    "\n",
    "\n",
    "def recurcive(array, n): #재귀함수를 이용해서 \" \", \"+\", \"-\" 경우의 수를 모두 구함\n",
    "    if len(array) == n :\n",
    "        operators_list.append(copy.deepcopy(array))\n",
    "        return\n",
    "    array.append(' ')\n",
    "    \n",
    "    recurcive(array, n)\n",
    "    array.pop()\n",
    "    \n",
    "    array.append('+')\n",
    "    recurcive(array, n)\n",
    "    array.pop()\n",
    "    \n",
    "    array.append('-')\n",
    "    recurcive(array, n)\n",
    "    array.pop()\n",
    "\n",
    "\n",
    "\n",
    "test_case = int(input())\n",
    "for _ in range (test_case):\n",
    "    operators_list = []\n",
    "    n = int(input())\n",
    "    recurcive([], n-1)\n",
    "    \n",
    "    integers= [i for i in range(1,n+1)]\n",
    "    \n",
    "    for operators in operators_list:\n",
    "        string = \"\"\n",
    "        for i in range(n-1): #숫자사이에 기호를 넣는 code\n",
    "            string += str(integers[i])+operators[i]\n",
    "        string += str(integers[-1])\n",
    "        if eval(string.replace(\" \",\"\")) == 0:\n",
    "            print(string)\n",
    "    print()\n"
   ]
  },
  {
   "cell_type": "code",
   "execution_count": 31,
   "metadata": {},
   "outputs": [
    {
     "data": {
      "text/plain": [
       "55"
      ]
     },
     "execution_count": 31,
     "metadata": {},
     "output_type": "execute_result"
    }
   ],
   "source": [
    "eval(\"5\"+\"5\")"
   ]
  },
  {
   "cell_type": "code",
   "execution_count": 26,
   "metadata": {},
   "outputs": [
    {
     "data": {
      "text/plain": [
       "10"
      ]
     },
     "execution_count": 26,
     "metadata": {},
     "output_type": "execute_result"
    }
   ],
   "source": [
    "eval(\"5+5\")"
   ]
  },
  {
   "cell_type": "code",
   "execution_count": null,
   "metadata": {},
   "outputs": [],
   "source": []
  }
 ],
 "metadata": {
  "kernelspec": {
   "display_name": "Python 3.10.4 64-bit",
   "language": "python",
   "name": "python3"
  },
  "language_info": {
   "codemirror_mode": {
    "name": "ipython",
    "version": 3
   },
   "file_extension": ".py",
   "mimetype": "text/x-python",
   "name": "python",
   "nbconvert_exporter": "python",
   "pygments_lexer": "ipython3",
   "version": "3.10.4"
  },
  "orig_nbformat": 4,
  "vscode": {
   "interpreter": {
    "hash": "369f2c481f4da34e4445cda3fffd2e751bd1c4d706f27375911949ba6bb62e1c"
   }
  }
 },
 "nbformat": 4,
 "nbformat_minor": 2
}
