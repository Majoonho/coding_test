{
 "cells": [
  {
   "cell_type": "markdown",
   "metadata": {},
   "source": [
    "#### 백준 2346 번 풍선 터뜨리기 문제"
   ]
  },
  {
   "cell_type": "code",
   "execution_count": 154,
   "metadata": {},
   "outputs": [],
   "source": [
    "import sys\n",
    "\n",
    "input = sys.stdin.readline\n",
    "\n",
    "from collections import deque\n",
    "\n",
    "n= int(input())\n",
    "arr = list(map(int, input().split()))\n",
    "d = deque()\n",
    "\n",
    "for i in range(n):\n",
    "    d.append((arr[i], i+1))\n",
    "result=list()\n",
    "    "
   ]
  },
  {
   "cell_type": "code",
   "execution_count": 17,
   "metadata": {},
   "outputs": [],
   "source": [
    "from collections import deque\n",
    "n=5\n",
    "arr=[3,2,1,-3,-1]\n",
    "\n",
    "d = deque()\n",
    "\n",
    "\n",
    "for i in range(n):\n",
    "    d.append((arr[i], i+1))\n",
    "result=list()\n"
   ]
  },
  {
   "cell_type": "code",
   "execution_count": 18,
   "metadata": {},
   "outputs": [
    {
     "name": "stdout",
     "output_type": "stream",
     "text": [
      "1 4 5 3 2 "
     ]
    }
   ],
   "source": [
    "current, index = d.popleft()\n",
    "result.append(index)\n",
    "\n",
    "for i in range(n-1):\n",
    "    if current >0 :\n",
    "        for j in range(current-1):\n",
    "            x=d.popleft()\n",
    "            d.append(x)\n",
    "    \n",
    "    else :\n",
    "        for j in range(-current):\n",
    "            x=d.pop()  \n",
    "            d.appendleft(x)\n",
    "    \n",
    "    current, index = d.popleft() \n",
    "    result.append(index)\n",
    "    \n",
    "for x in result :\n",
    "    print(x, end=\" \")\n",
    "            \n",
    "        "
   ]
  },
  {
   "cell_type": "code",
   "execution_count": null,
   "metadata": {},
   "outputs": [],
   "source": []
  }
 ],
 "metadata": {
  "kernelspec": {
   "display_name": "Python 3.10.4 64-bit",
   "language": "python",
   "name": "python3"
  },
  "language_info": {
   "codemirror_mode": {
    "name": "ipython",
    "version": 3
   },
   "file_extension": ".py",
   "mimetype": "text/x-python",
   "name": "python",
   "nbconvert_exporter": "python",
   "pygments_lexer": "ipython3",
   "version": "3.10.4"
  },
  "orig_nbformat": 4,
  "vscode": {
   "interpreter": {
    "hash": "369f2c481f4da34e4445cda3fffd2e751bd1c4d706f27375911949ba6bb62e1c"
   }
  }
 },
 "nbformat": 4,
 "nbformat_minor": 2
}
