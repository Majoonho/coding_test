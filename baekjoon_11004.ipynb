{
 "cells": [
  {
   "attachments": {},
   "cell_type": "markdown",
   "metadata": {},
   "source": [
    "#### 백준 2751 번 수 정렬하기"
   ]
  },
  {
   "cell_type": "code",
   "execution_count": 15,
   "metadata": {},
   "outputs": [],
   "source": [
    "num=[5,4,3,2]"
   ]
  },
  {
   "cell_type": "code",
   "execution_count": 16,
   "metadata": {},
   "outputs": [],
   "source": [
    "num.sort()"
   ]
  },
  {
   "cell_type": "code",
   "execution_count": 17,
   "metadata": {},
   "outputs": [
    {
     "data": {
      "text/plain": [
       "[2, 3, 4, 5]"
      ]
     },
     "execution_count": 17,
     "metadata": {},
     "output_type": "execute_result"
    }
   ],
   "source": [
    "num"
   ]
  },
  {
   "cell_type": "code",
   "execution_count": 38,
   "metadata": {},
   "outputs": [],
   "source": [
    "N=[7,5,4,8]"
   ]
  },
  {
   "cell_type": "code",
   "execution_count": 46,
   "metadata": {},
   "outputs": [],
   "source": [
    "N=[5,4,1,6,8,9]"
   ]
  },
  {
   "cell_type": "code",
   "execution_count": 47,
   "metadata": {},
   "outputs": [
    {
     "data": {
      "text/plain": [
       "[1, 4, 5, 6, 8, 9]"
      ]
     },
     "execution_count": 47,
     "metadata": {},
     "output_type": "execute_result"
    }
   ],
   "source": [
    "# 병합정렬방식을 사용해보자\n",
    "n=int(input())\n",
    "N=[]\n",
    "for _ in n:\n",
    "    N.append(int((input())))\n",
    "\n",
    "for i in N[0:(len(N))//2]: #리스트의 절반씩 나누어서 정렬한다.\n",
    "    \n",
    "    for j in N[1:(len(N))//2]:\n",
    "        \n",
    "        if i > j :\n",
    "            N[N.index(j)], N[N.index(i)]  = N[N.index(i)],N[N.index(j)]\n",
    "            #[7,5] -> [5,7]\n",
    "            \n",
    "for i in N[(len(N))//2:]: #나머지 반을 나누어 정렬한다.\n",
    "    \n",
    "    for j in N[(len(N))//2:]:\n",
    "        \n",
    "        if i > j :\n",
    "            N[N.index(j)], N[N.index(i)]  = N[N.index(i)],N[N.index(j)]\n",
    "            #[4,8] -> [4,8]\n",
    "\n",
    "for i in N[0:(len(N))//2]: #절반씩 정렬된 것을 다시 비교해서 최종 정렬한다.\n",
    "    for j in N[(len(N))//2:]:\n",
    "        if i > j:\n",
    "            N[N.index(j)], N[N.index(i)]  = N[N.index(i)],N[N.index(j)]\n",
    "            #[5]와[4]만 먼저 비교해서 정렬\n",
    "N            "
   ]
  },
  {
   "attachments": {},
   "cell_type": "markdown",
   "metadata": {},
   "source": [
    "#### 백준 11004 번 K번째 수"
   ]
  },
  {
   "cell_type": "code",
   "execution_count": 49,
   "metadata": {},
   "outputs": [],
   "source": [
    "N=5\n",
    "K=2\n",
    "A=[4,1,2,3,5]"
   ]
  },
  {
   "cell_type": "code",
   "execution_count": 50,
   "metadata": {},
   "outputs": [],
   "source": [
    "ans=sorted(A)"
   ]
  },
  {
   "cell_type": "code",
   "execution_count": 54,
   "metadata": {},
   "outputs": [
    {
     "data": {
      "text/plain": [
       "2"
      ]
     },
     "execution_count": 54,
     "metadata": {},
     "output_type": "execute_result"
    }
   ],
   "source": [
    "ans[K-1]"
   ]
  },
  {
   "cell_type": "code",
   "execution_count": 61,
   "metadata": {},
   "outputs": [],
   "source": [
    "# 파이썬 라이브러리로 해결한 방법\n",
    "N,K=map(int,(input().split()))\n",
    "ans=list(map(int,(input().split())))\n"
   ]
  },
  {
   "cell_type": "code",
   "execution_count": 65,
   "metadata": {},
   "outputs": [
    {
     "data": {
      "text/plain": [
       "2"
      ]
     },
     "execution_count": 65,
     "metadata": {},
     "output_type": "execute_result"
    }
   ],
   "source": [
    "ans=sorted(ans)\n",
    "ans[K-1]"
   ]
  },
  {
   "cell_type": "code",
   "execution_count": null,
   "metadata": {},
   "outputs": [],
   "source": []
  }
 ],
 "metadata": {
  "kernelspec": {
   "display_name": "Python 3.10.4 64-bit",
   "language": "python",
   "name": "python3"
  },
  "language_info": {
   "codemirror_mode": {
    "name": "ipython",
    "version": 3
   },
   "file_extension": ".py",
   "mimetype": "text/x-python",
   "name": "python",
   "nbconvert_exporter": "python",
   "pygments_lexer": "ipython3",
   "version": "3.10.4"
  },
  "orig_nbformat": 4,
  "vscode": {
   "interpreter": {
    "hash": "369f2c481f4da34e4445cda3fffd2e751bd1c4d706f27375911949ba6bb62e1c"
   }
  }
 },
 "nbformat": 4,
 "nbformat_minor": 2
}
