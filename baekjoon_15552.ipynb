{
 "cells": [
  {
   "attachments": {},
   "cell_type": "markdown",
   "metadata": {},
   "source": [
    "#### 백준 1236 번 성지키기"
   ]
  },
  {
   "cell_type": "code",
   "execution_count": 6,
   "metadata": {},
   "outputs": [],
   "source": [
    "a=list() # 가로배열로 입력받음\n",
    "n,m = map(int,input().split())\n",
    "for i in range(n):\n",
    "  a.extend(input().split()) "
   ]
  },
  {
   "cell_type": "code",
   "execution_count": 8,
   "metadata": {},
   "outputs": [
    {
     "name": "stdout",
     "output_type": "stream",
     "text": [
      "3\n"
     ]
    }
   ],
   "source": [
    "a_col=list() #세로배열을 만듬\n",
    "for i in range(m):\n",
    "  for j in a[i::m]:\n",
    "    a_col.append(j)\n",
    "\n",
    "x=list() #최종 x 배열 완성\n",
    "for i in range((n*m)-m+1):\n",
    "  if i ==0 or i%m==0:\n",
    "    x.append(a[i:i+m])\n",
    "\n",
    "y=list() #최종 y 배열 완성\n",
    "for i in range((n*m)-n+1):\n",
    "  if i ==0 or i%n==0:\n",
    "    y.append(a_col[i:i+n])\n",
    "\n",
    "count_x =0\n",
    "for i in x: # X 가 없는 개수 확인\n",
    "  if 'X' in i:\n",
    "    pass\n",
    "  elif 'X' not in i:\n",
    "    count_x+=1\n",
    "    \n",
    "\n",
    "count_y =0\n",
    "for i in y: # X 가 없는 개수 확인\n",
    "  if 'X' in i:\n",
    "    pass\n",
    "  elif 'X' not in i:\n",
    "    count_y+=1\n",
    "    \n",
    "\n",
    "\n",
    "\n",
    "if count_x > count_y: # x,y열 둘중 X가 없는 개수 많은 곳\n",
    "  print(count_x)\n",
    "else :\n",
    "  print(count_y)\n",
    "\n",
    "\n",
    "    "
   ]
  },
  {
   "cell_type": "code",
   "execution_count": null,
   "metadata": {},
   "outputs": [],
   "source": []
  },
  {
   "cell_type": "code",
   "execution_count": 1,
   "metadata": {},
   "outputs": [],
   "source": [
    "n, m = map(int, input().split())\n",
    "array=[]\n",
    "\n",
    "for _ in range(n):\n",
    "  array.append(input())"
   ]
  },
  {
   "cell_type": "code",
   "execution_count": 2,
   "metadata": {},
   "outputs": [
    {
     "data": {
      "text/plain": [
       "['....XXXX', '........', 'XX.X.XX.', '........', '........']"
      ]
     },
     "execution_count": 2,
     "metadata": {},
     "output_type": "execute_result"
    }
   ],
   "source": [
    "array"
   ]
  },
  {
   "cell_type": "code",
   "execution_count": 3,
   "metadata": {},
   "outputs": [],
   "source": [
    "row=[0]*n\n",
    "column = [0]*m\n"
   ]
  },
  {
   "cell_type": "code",
   "execution_count": 4,
   "metadata": {},
   "outputs": [
    {
     "name": "stdout",
     "output_type": "stream",
     "text": [
      "3\n"
     ]
    }
   ],
   "source": [
    "for i in range(n):\n",
    "  for j in range(m):\n",
    "    if array[i][j] == 'X' :\n",
    "      row[i] = 1\n",
    "      column[j] = 1\n",
    "      \n",
    "row_count =0\n",
    "for i in range(n):\n",
    "  if row[i] == 0:\n",
    "    row_count+=1\n",
    "\n",
    "column_count = 0\n",
    "for j in range(m):\n",
    "  if column[j] == 0:\n",
    "    column_count+=1\n",
    "\n",
    "print(max(row_count, column_count))"
   ]
  },
  {
   "cell_type": "code",
   "execution_count": null,
   "metadata": {},
   "outputs": [],
   "source": []
  }
 ],
 "metadata": {
  "kernelspec": {
   "display_name": "Python 3.10.4 64-bit",
   "language": "python",
   "name": "python3"
  },
  "language_info": {
   "codemirror_mode": {
    "name": "ipython",
    "version": 3
   },
   "file_extension": ".py",
   "mimetype": "text/x-python",
   "name": "python",
   "nbconvert_exporter": "python",
   "pygments_lexer": "ipython3",
   "version": "3.10.4"
  },
  "orig_nbformat": 4,
  "vscode": {
   "interpreter": {
    "hash": "369f2c481f4da34e4445cda3fffd2e751bd1c4d706f27375911949ba6bb62e1c"
   }
  }
 },
 "nbformat": 4,
 "nbformat_minor": 2
}
