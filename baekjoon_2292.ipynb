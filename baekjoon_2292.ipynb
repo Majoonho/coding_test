{
 "cells": [
  {
   "attachments": {},
   "cell_type": "markdown",
   "metadata": {},
   "source": [
    "#### 백준 2292 번 벌집"
   ]
  },
  {
   "cell_type": "code",
   "execution_count": 1,
   "metadata": {},
   "outputs": [],
   "source": [
    "#재귀함수를 이용한 풀이 : 괜히 더 어렵게 생각했음...\n",
    "\n",
    "def find(x):\n",
    "    if x == 1:\n",
    "        return 1\n",
    "    elif x == 2 :\n",
    "        return 7\n",
    "    elif x ==3 :\n",
    "        return 19\n",
    "        \n",
    "    return find(x-1)+6*(x-1)\n",
    "\n",
    "\n",
    "def Num(x):\n",
    "    for i in range(1,1000000001):\n",
    "        if x <= find(i) :\n",
    "            ans=i\n",
    "            break\n",
    "            \n",
    "    return ans\n",
    "\n",
    "x=int(input())\n",
    "\n",
    "Num(x)\n",
    "\n",
    "    "
   ]
  },
  {
   "cell_type": "code",
   "execution_count": null,
   "metadata": {},
   "outputs": [],
   "source": [
    "n = int(input())\n",
    "\n",
    "nums_pileup = 1  # 벌집의 개수, 1개부터 시작\n",
    "cnt = 1\n",
    "while n > nums_pileup :\n",
    "    nums_pileup += 6 * cnt  # 벌집이 6의 배수로 증가\n",
    "    cnt += 1  # 반복문을 반복하는 횟수\n",
    "print(cnt)"
   ]
  }
 ],
 "metadata": {
  "kernelspec": {
   "display_name": "Python 3.10.4 64-bit",
   "language": "python",
   "name": "python3"
  },
  "language_info": {
   "codemirror_mode": {
    "name": "ipython",
    "version": 3
   },
   "file_extension": ".py",
   "mimetype": "text/x-python",
   "name": "python",
   "nbconvert_exporter": "python",
   "pygments_lexer": "ipython3",
   "version": "3.10.4"
  },
  "orig_nbformat": 4,
  "vscode": {
   "interpreter": {
    "hash": "369f2c481f4da34e4445cda3fffd2e751bd1c4d706f27375911949ba6bb62e1c"
   }
  }
 },
 "nbformat": 4,
 "nbformat_minor": 2
}
