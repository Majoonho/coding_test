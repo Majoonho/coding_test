{
 "cells": [
  {
   "attachments": {},
   "cell_type": "markdown",
   "metadata": {},
   "source": [
    "#### 백준 1543 번 문서검색"
   ]
  },
  {
   "cell_type": "code",
   "execution_count": 19,
   "metadata": {},
   "outputs": [
    {
     "name": "stdout",
     "output_type": "stream",
     "text": [
      "2\n"
     ]
    }
   ],
   "source": [
    "text = input()\n",
    "find = input()\n",
    "\n",
    "index = 0\n",
    "result = 0\n",
    "while len(text)-index >= len(find): # 글자를 통째로 비교하기 위해 인덱스로 슬라이싱을 합니다.\n",
    "  if text[index:index+len(find)] == find: # 슬라이싱한 글자와 찾는 글자가 같으면 result 에 1을 더합니다.\n",
    "    result += 1\n",
    "    index +=len(find) # 찾는 글자의 길이만큼 인덱스를 이동시켜줍니다.\n",
    "  else :\n",
    "    index +=1 # 찾는 글자가 없으면 1칸만 옆으로 이동합니다.\n",
    "    \n",
    "print(result)"
   ]
  }
 ],
 "metadata": {
  "kernelspec": {
   "display_name": "Python 3.10.4 64-bit",
   "language": "python",
   "name": "python3"
  },
  "language_info": {
   "codemirror_mode": {
    "name": "ipython",
    "version": 3
   },
   "file_extension": ".py",
   "mimetype": "text/x-python",
   "name": "python",
   "nbconvert_exporter": "python",
   "pygments_lexer": "ipython3",
   "version": "3.10.4"
  },
  "orig_nbformat": 4,
  "vscode": {
   "interpreter": {
    "hash": "369f2c481f4da34e4445cda3fffd2e751bd1c4d706f27375911949ba6bb62e1c"
   }
  }
 },
 "nbformat": 4,
 "nbformat_minor": 2
}
