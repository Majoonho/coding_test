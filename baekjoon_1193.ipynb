{
 "cells": [
  {
   "attachments": {},
   "cell_type": "markdown",
   "metadata": {},
   "source": [
    "#### 백준 25304 번 영수증"
   ]
  },
  {
   "cell_type": "code",
   "execution_count": null,
   "metadata": {},
   "outputs": [],
   "source": [
    "260000\n",
    "4\n",
    "20000 5\n",
    "30000 2\n",
    "10000 6\n",
    "5000 8\n",
    "\n",
    "Yes\n"
   ]
  },
  {
   "cell_type": "code",
   "execution_count": 1,
   "metadata": {},
   "outputs": [],
   "source": [
    "total=int(input())\n",
    "kind = int(input())\n",
    "cal = []\n",
    "for i in range(kind):\n",
    "    temp=list(map(int, input().split()))\n",
    "    cal.append(temp)"
   ]
  },
  {
   "cell_type": "code",
   "execution_count": 2,
   "metadata": {},
   "outputs": [
    {
     "name": "stdout",
     "output_type": "stream",
     "text": [
      "260000\n",
      "4\n",
      "[[20000, 5], [30000, 2], [10000, 6], [5000, 8]]\n"
     ]
    }
   ],
   "source": [
    "print(total)\n",
    "print(kind)\n",
    "print(cal)"
   ]
  },
  {
   "cell_type": "code",
   "execution_count": 3,
   "metadata": {},
   "outputs": [],
   "source": [
    "cal_sum=list()\n",
    "for i in cal:\n",
    "    cal_sum.append(i[0]*i[1])"
   ]
  },
  {
   "cell_type": "code",
   "execution_count": 9,
   "metadata": {},
   "outputs": [],
   "source": [
    "result=sum(cal_sum)"
   ]
  },
  {
   "cell_type": "code",
   "execution_count": 11,
   "metadata": {},
   "outputs": [
    {
     "name": "stdout",
     "output_type": "stream",
     "text": [
      "Yes\n"
     ]
    }
   ],
   "source": [
    "if total == result :\n",
    "    print('Yes')\n",
    "else :\n",
    "    print('No')\n",
    "    "
   ]
  },
  {
   "cell_type": "code",
   "execution_count": null,
   "metadata": {},
   "outputs": [],
   "source": [
    "total=int(input())\n",
    "kind = int(input())\n",
    "cal = []\n",
    "for i in range(kind):\n",
    "    temp=list(map(int, input().split()))\n",
    "    cal.append(temp)\n",
    "    \n",
    "cal_sum=list()\n",
    "for i in cal:\n",
    "    cal_sum.append(i[0]*i[1])\n",
    "\n",
    "result=sum(cal_sum)\n",
    "\n",
    "if total == result :\n",
    "    print('Yes')\n",
    "else :\n",
    "    print('No')"
   ]
  }
 ],
 "metadata": {
  "kernelspec": {
   "display_name": "Python 3.10.4 64-bit",
   "language": "python",
   "name": "python3"
  },
  "language_info": {
   "codemirror_mode": {
    "name": "ipython",
    "version": 3
   },
   "file_extension": ".py",
   "mimetype": "text/x-python",
   "name": "python",
   "nbconvert_exporter": "python",
   "pygments_lexer": "ipython3",
   "version": "3.10.4"
  },
  "orig_nbformat": 4,
  "vscode": {
   "interpreter": {
    "hash": "369f2c481f4da34e4445cda3fffd2e751bd1c4d706f27375911949ba6bb62e1c"
   }
  }
 },
 "nbformat": 4,
 "nbformat_minor": 2
}
