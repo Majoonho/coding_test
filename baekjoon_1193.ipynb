{
 "cells": [
  {
   "attachments": {},
   "cell_type": "markdown",
   "metadata": {},
   "source": [
    "#### 백준 1193 번 분수"
   ]
  },
  {
   "cell_type": "code",
   "execution_count": 24,
   "metadata": {},
   "outputs": [],
   "source": [
    "def facto_x(x):\n",
    "    ans=list()\n",
    "    while True :\n",
    "        ans.append(x) \n",
    "        x -= 1\n",
    "        \n",
    "        if x== 0:\n",
    "            break\n",
    "        \n",
    "    return ans[::-1]\n",
    "\n",
    "\n",
    "    \n",
    "        "
   ]
  },
  {
   "cell_type": "code",
   "execution_count": 25,
   "metadata": {},
   "outputs": [],
   "source": [
    "def facto_y(x):\n",
    "    ans=list()\n",
    "    while True :\n",
    "        ans.append(x) \n",
    "        x -= 1\n",
    "        \n",
    "        if x== 0:\n",
    "            break\n",
    "        \n",
    "    return ans"
   ]
  },
  {
   "cell_type": "code",
   "execution_count": 22,
   "metadata": {},
   "outputs": [
    {
     "data": {
      "text/plain": [
       "[2, 1]"
      ]
     },
     "execution_count": 22,
     "metadata": {},
     "output_type": "execute_result"
    }
   ],
   "source": [
    "facto_y(2)"
   ]
  },
  {
   "cell_type": "code",
   "execution_count": 31,
   "metadata": {},
   "outputs": [
    {
     "name": "stdout",
     "output_type": "stream",
     "text": [
      "3/1\n"
     ]
    }
   ],
   "source": [
    "x= 6\n",
    "ans_x = list()\n",
    "ans_y = list()\n",
    "\n",
    "for i in range(1,x+1):\n",
    "    ans_x.extend(facto_x(i))\n",
    "    ans_y.extend(facto_y(i))\n",
    "\n",
    "print(str(ans_x[x-1])+'/'+str(ans_y[x-1]))"
   ]
  },
  {
   "cell_type": "code",
   "execution_count": null,
   "metadata": {},
   "outputs": [],
   "source": []
  },
  {
   "cell_type": "code",
   "execution_count": 65,
   "metadata": {},
   "outputs": [
    {
     "name": "stdout",
     "output_type": "stream",
     "text": [
      "3/1\n"
     ]
    }
   ],
   "source": [
    "x=int(input())\n",
    "\n",
    "\n",
    "temp_x = list()\n",
    "for i in range(1,x+1):\n",
    "    if i%2!=0:\n",
    "        for j in range(i,0,-1):\n",
    "            temp_x.append(j)\n",
    "    \n",
    "    elif i%2==0 :\n",
    "        for j in range(1,i+1):\n",
    "            temp_x.append(j)\n",
    "            \n",
    "# print(temp_x[x-1])\n",
    "\n",
    "temp_y = list()\n",
    "for i in range(1,x+1):\n",
    "    if i%2!=0:\n",
    "        for j in range(1,i+1):\n",
    "            temp_y.append(j)\n",
    "    elif i%2==0 :\n",
    "        for j in range(i,0,-1):\n",
    "            temp_y.append(j)\n",
    "            \n",
    "# print(temp_y[x-1])\n",
    "\n",
    "\n",
    "print(str(temp_x[x-1])+\"/\"+str(temp_y[x-1]))"
   ]
  },
  {
   "cell_type": "code",
   "execution_count": 68,
   "metadata": {},
   "outputs": [
    {
     "name": "stdout",
     "output_type": "stream",
     "text": [
      "3 3\n",
      "1/3\n"
     ]
    }
   ],
   "source": [
    "X=int(input())\n",
    "\n",
    "line=1\n",
    "while X>line:\n",
    "    X-=line\n",
    "    line+=1\n",
    "\n",
    "\n",
    "    \n",
    "if line%2==0:\n",
    "    a=X\n",
    "    b=line-X+1\n",
    "    \n",
    "else:\n",
    "    a=line-X+1\n",
    "    b=X\n",
    "    \n",
    "print(a, '/', b, sep='')"
   ]
  },
  {
   "cell_type": "code",
   "execution_count": 74,
   "metadata": {},
   "outputs": [
    {
     "name": "stdout",
     "output_type": "stream",
     "text": [
      "line: 3\n",
      "6\n",
      "diff: 0\n",
      "1/3\n"
     ]
    }
   ],
   "source": [
    "n=6\n",
    "line = 0\n",
    "end = 0\n",
    "while n > end:\n",
    "    line += 1\n",
    "    end += line\n",
    "print(\"line:\",line)\n",
    "print(end)\n",
    "\n",
    "diff = end - n\n",
    "print(\"diff:\",diff)\n",
    "if line%2 == 0: #짝수 라인 일때\n",
    "    top = line - diff\n",
    "    bottom = diff + 1\n",
    "else:\n",
    "    top = diff + 1\n",
    "    bottom = line - diff\n",
    "\n",
    "print(\"%d/%d\"%(top,bottom))"
   ]
  },
  {
   "cell_type": "code",
   "execution_count": null,
   "metadata": {},
   "outputs": [],
   "source": []
  }
 ],
 "metadata": {
  "kernelspec": {
   "display_name": "Python 3.10.4 64-bit",
   "language": "python",
   "name": "python3"
  },
  "language_info": {
   "codemirror_mode": {
    "name": "ipython",
    "version": 3
   },
   "file_extension": ".py",
   "mimetype": "text/x-python",
   "name": "python",
   "nbconvert_exporter": "python",
   "pygments_lexer": "ipython3",
   "version": "3.10.4"
  },
  "orig_nbformat": 4,
  "vscode": {
   "interpreter": {
    "hash": "369f2c481f4da34e4445cda3fffd2e751bd1c4d706f27375911949ba6bb62e1c"
   }
  }
 },
 "nbformat": 4,
 "nbformat_minor": 2
}
